{
 "cells": [
  {
   "cell_type": "markdown",
   "metadata": {},
   "source": [
    "# Dataset\n",
    "## The CIFAR-10 dataset\n",
    "The CIFAR-10 dataset consists of 60000 32x32 colour images in 10 classes, with 6000 images per class. There are 50000 training images and 10000 test images.\n",
    "\n",
    "The dataset is divided into five training batches and one test batch, each with 10000 images. The test batch contains exactly 1000 randomly-selected images from each class. The training batches contain the remaining images in random order, but some training batches may contain more images from one class than another. Between them, the training batches contain exactly 5000 images from each class.\n",
    "\n",
    "You can check and download the dataset from [here](https://www.cs.toronto.edu/~kriz/cifar.html)"
   ]
  },
  {
   "cell_type": "markdown",
   "metadata": {},
   "source": [
    "## Loading Dataset Into Memory\n",
    "\n",
    "Wrote my own ImageDataLoader Class that is extendible to support multiple datasets in the future as well.\n",
    "It loads the dataset using the directory path, and returns four results: **train_X, train_y , test_X , test_y** \n",
    "\n",
    "Although clustering does not make use of the labels since this is an unsupervised learning algorithm.\n",
    "This is intended to support a general case ImageDataLoader not specifically built for the image clustering problem. "
   ]
  },
  {
   "cell_type": "code",
   "execution_count": 1,
   "metadata": {},
   "outputs": [
    {
     "name": "stderr",
     "output_type": "stream",
     "text": [
      "100%|██████████| 5/5 [00:00<00:00, 25.61it/s]\n"
     ]
    }
   ],
   "source": [
    "from data_loader import ImageDataLoader\n",
    "data_loader = ImageDataLoader()\n",
    "train_X, train_y , test_X , test_y = data_loader.load_cifar10(\"./cifar-10-batches-py\", num_batches = 5)"
   ]
  },
  {
   "cell_type": "markdown",
   "metadata": {},
   "source": [
    "## Clustering Using KMeans\n",
    "\n",
    "The purpose of K-means is to **identify groups**, or clusters of data points in a multidimensional space. The number K in K-means is the number of clusters to create. Initial cluster means are usually chosen at random.\n",
    "\n",
    "K-means is usually implemented as an **iterative procedure** in which each iteration involves two successive steps. The first step is to assign each of the data points to a cluster. The second step is to modify the cluster means so that they become the mean of all the points assigned to that cluster.\n",
    "\n",
    "The **quality** of the current assignment is given by the **distortion measure** which is the sum of squared distances between each cluster centroid and points inside the cluster."
   ]
  },
  {
   "cell_type": "code",
   "execution_count": 2,
   "metadata": {},
   "outputs": [
    {
     "name": "stderr",
     "output_type": "stream",
     "text": [
      "  0%|          | 0/1 [00:00<?, ?it/s]\n",
      "  0%|          | 0/300 [00:00<?, ?it/s]\u001b[A\n",
      "  0%|          | 1/300 [00:02<14:22,  2.88s/it]\u001b[A"
     ]
    },
    {
     "name": "stdout",
     "output_type": "stream",
     "text": [
      "Restart 1  Iteration 1\n",
      "The Error of this iteration is  6262.589205812052\n",
      "The Distoration Measure score of this assignment is  739199614.984862\n"
     ]
    },
    {
     "name": "stderr",
     "output_type": "stream",
     "text": [
      "\n",
      "  1%|          | 2/300 [00:05<14:04,  2.83s/it]\u001b[A"
     ]
    },
    {
     "name": "stdout",
     "output_type": "stream",
     "text": [
      "Restart 1  Iteration 2\n",
      "The Error of this iteration is  1539.9516098839704\n",
      "The Distoration Measure score of this assignment is  533046453.9677529\n"
     ]
    },
    {
     "name": "stderr",
     "output_type": "stream",
     "text": [
      "\n",
      "  1%|          | 3/300 [00:08<13:32,  2.74s/it]\u001b[A"
     ]
    },
    {
     "name": "stdout",
     "output_type": "stream",
     "text": [
      "Restart 1  Iteration 3\n",
      "The Error of this iteration is  380.4385834959948\n",
      "The Distoration Measure score of this assignment is  559626351.0356375\n"
     ]
    },
    {
     "name": "stderr",
     "output_type": "stream",
     "text": [
      "\n",
      "  1%|▏         | 4/300 [00:10<13:08,  2.66s/it]\u001b[A"
     ]
    },
    {
     "name": "stdout",
     "output_type": "stream",
     "text": [
      "Restart 1  Iteration 4\n",
      "The Error of this iteration is  224.46551113080298\n",
      "The Distoration Measure score of this assignment is  562695358.8771282\n"
     ]
    },
    {
     "name": "stderr",
     "output_type": "stream",
     "text": [
      "\n",
      "  2%|▏         | 5/300 [00:13<12:50,  2.61s/it]\u001b[A"
     ]
    },
    {
     "name": "stdout",
     "output_type": "stream",
     "text": [
      "Restart 1  Iteration 5\n",
      "The Error of this iteration is  166.7024136489569\n",
      "The Distoration Measure score of this assignment is  565077741.5744352\n"
     ]
    },
    {
     "name": "stderr",
     "output_type": "stream",
     "text": [
      "\n",
      "  2%|▏         | 6/300 [00:15<12:43,  2.60s/it]\u001b[A"
     ]
    },
    {
     "name": "stdout",
     "output_type": "stream",
     "text": [
      "Restart 1  Iteration 6\n",
      "The Error of this iteration is  118.56036673632491\n",
      "The Distoration Measure score of this assignment is  567345343.6112562\n"
     ]
    },
    {
     "name": "stderr",
     "output_type": "stream",
     "text": [
      "\n",
      "  2%|▏         | 7/300 [00:18<12:28,  2.55s/it]\u001b[A"
     ]
    },
    {
     "name": "stdout",
     "output_type": "stream",
     "text": [
      "Restart 1  Iteration 7\n",
      "The Error of this iteration is  87.26993025545023\n",
      "The Distoration Measure score of this assignment is  569207734.1899327\n"
     ]
    },
    {
     "name": "stderr",
     "output_type": "stream",
     "text": [
      "\n",
      "  3%|▎         | 8/300 [00:20<12:19,  2.53s/it]\u001b[A"
     ]
    },
    {
     "name": "stdout",
     "output_type": "stream",
     "text": [
      "Restart 1  Iteration 8\n",
      "The Error of this iteration is  64.92380919844348\n",
      "The Distoration Measure score of this assignment is  570656563.3100905\n"
     ]
    },
    {
     "name": "stderr",
     "output_type": "stream",
     "text": [
      "\n",
      "  3%|▎         | 9/300 [00:23<12:15,  2.53s/it]\u001b[A"
     ]
    },
    {
     "name": "stdout",
     "output_type": "stream",
     "text": [
      "Restart 1  Iteration 9\n",
      "The Error of this iteration is  46.17168335180404\n",
      "The Distoration Measure score of this assignment is  571761850.7026752\n"
     ]
    },
    {
     "name": "stderr",
     "output_type": "stream",
     "text": [
      "\n",
      "  3%|▎         | 10/300 [00:25<12:08,  2.51s/it]\u001b[A"
     ]
    },
    {
     "name": "stdout",
     "output_type": "stream",
     "text": [
      "Restart 1  Iteration 10\n",
      "The Error of this iteration is  31.806968634550145\n",
      "The Distoration Measure score of this assignment is  572535097.6102396\n"
     ]
    },
    {
     "name": "stderr",
     "output_type": "stream",
     "text": [
      "\n",
      "  4%|▎         | 11/300 [00:28<12:05,  2.51s/it]\u001b[A"
     ]
    },
    {
     "name": "stdout",
     "output_type": "stream",
     "text": [
      "Restart 1  Iteration 11\n",
      "The Error of this iteration is  24.64097429477198\n",
      "The Distoration Measure score of this assignment is  573085338.9271711\n"
     ]
    },
    {
     "name": "stderr",
     "output_type": "stream",
     "text": [
      "\n",
      "  4%|▍         | 12/300 [00:30<12:05,  2.52s/it]\u001b[A"
     ]
    },
    {
     "name": "stdout",
     "output_type": "stream",
     "text": [
      "Restart 1  Iteration 12\n",
      "The Error of this iteration is  19.779854843786783\n",
      "The Distoration Measure score of this assignment is  573505042.1044645\n"
     ]
    },
    {
     "name": "stderr",
     "output_type": "stream",
     "text": [
      "\n",
      "  4%|▍         | 13/300 [00:33<12:10,  2.54s/it]\u001b[A"
     ]
    },
    {
     "name": "stdout",
     "output_type": "stream",
     "text": [
      "Restart 1  Iteration 13\n",
      "The Error of this iteration is  13.628807442048476\n",
      "The Distoration Measure score of this assignment is  573852167.938314\n"
     ]
    },
    {
     "name": "stderr",
     "output_type": "stream",
     "text": [
      "\n",
      "  5%|▍         | 14/300 [00:35<12:17,  2.58s/it]\u001b[A"
     ]
    },
    {
     "name": "stdout",
     "output_type": "stream",
     "text": [
      "Restart 1  Iteration 14\n",
      "The Error of this iteration is  9.077541954174682\n",
      "The Distoration Measure score of this assignment is  574089418.4749928\n"
     ]
    },
    {
     "name": "stderr",
     "output_type": "stream",
     "text": [
      "\n",
      "  5%|▌         | 15/300 [00:38<12:16,  2.58s/it]\u001b[A"
     ]
    },
    {
     "name": "stdout",
     "output_type": "stream",
     "text": [
      "Restart 1  Iteration 15\n",
      "The Error of this iteration is  6.903627383908937\n",
      "The Distoration Measure score of this assignment is  574232612.1663616\n"
     ]
    },
    {
     "name": "stderr",
     "output_type": "stream",
     "text": [
      "\n",
      "  5%|▌         | 16/300 [00:41<12:25,  2.62s/it]\u001b[A"
     ]
    },
    {
     "name": "stdout",
     "output_type": "stream",
     "text": [
      "Restart 1  Iteration 16\n",
      "The Error of this iteration is  5.518176765886061\n",
      "The Distoration Measure score of this assignment is  574330514.6108425\n"
     ]
    },
    {
     "name": "stderr",
     "output_type": "stream",
     "text": [
      "\n",
      "  6%|▌         | 17/300 [00:43<12:28,  2.65s/it]\u001b[A"
     ]
    },
    {
     "name": "stdout",
     "output_type": "stream",
     "text": [
      "Restart 1  Iteration 17\n",
      "The Error of this iteration is  3.763904518266225\n",
      "The Distoration Measure score of this assignment is  574403358.2986017\n"
     ]
    },
    {
     "name": "stderr",
     "output_type": "stream",
     "text": [
      "\n",
      "  6%|▌         | 18/300 [00:46<12:42,  2.70s/it]\u001b[A"
     ]
    },
    {
     "name": "stdout",
     "output_type": "stream",
     "text": [
      "Restart 1  Iteration 18\n",
      "The Error of this iteration is  3.055330234430124\n",
      "The Distoration Measure score of this assignment is  574446710.9647281\n"
     ]
    },
    {
     "name": "stderr",
     "output_type": "stream",
     "text": [
      "\n",
      "  6%|▋         | 19/300 [00:49<12:39,  2.70s/it]\u001b[A"
     ]
    },
    {
     "name": "stdout",
     "output_type": "stream",
     "text": [
      "Restart 1  Iteration 19\n",
      "The Error of this iteration is  2.562540566450938\n",
      "The Distoration Measure score of this assignment is  574480620.0807576\n"
     ]
    },
    {
     "name": "stderr",
     "output_type": "stream",
     "text": [
      "\n",
      "  7%|▋         | 20/300 [00:52<12:47,  2.74s/it]\u001b[A"
     ]
    },
    {
     "name": "stdout",
     "output_type": "stream",
     "text": [
      "Restart 1  Iteration 20\n",
      "The Error of this iteration is  1.8529047642010845\n",
      "The Distoration Measure score of this assignment is  574511561.7920425\n"
     ]
    },
    {
     "name": "stderr",
     "output_type": "stream",
     "text": [
      "\n",
      "  7%|▋         | 21/300 [00:54<12:42,  2.73s/it]\u001b[A"
     ]
    },
    {
     "name": "stdout",
     "output_type": "stream",
     "text": [
      "Restart 1  Iteration 21\n",
      "The Error of this iteration is  1.4094468277091672\n",
      "The Distoration Measure score of this assignment is  574526975.974013\n"
     ]
    },
    {
     "name": "stderr",
     "output_type": "stream",
     "text": [
      "\n",
      "  7%|▋         | 22/300 [00:57<12:40,  2.74s/it]\u001b[A"
     ]
    },
    {
     "name": "stdout",
     "output_type": "stream",
     "text": [
      "Restart 1  Iteration 22\n",
      "The Error of this iteration is  0.727748382268846\n",
      "The Distoration Measure score of this assignment is  574540635.1225886\n"
     ]
    },
    {
     "name": "stderr",
     "output_type": "stream",
     "text": [
      "\n",
      "  8%|▊         | 23/300 [01:00<12:59,  2.82s/it]\u001b[A"
     ]
    },
    {
     "name": "stdout",
     "output_type": "stream",
     "text": [
      "Restart 1  Iteration 23\n",
      "The Error of this iteration is  0.7229185736311836\n",
      "The Distoration Measure score of this assignment is  574549481.9875817\n"
     ]
    },
    {
     "name": "stderr",
     "output_type": "stream",
     "text": [
      "\n",
      "  8%|▊         | 24/300 [01:03<12:50,  2.79s/it]\u001b[A"
     ]
    },
    {
     "name": "stdout",
     "output_type": "stream",
     "text": [
      "Restart 1  Iteration 24\n",
      "The Error of this iteration is  0.5734147754336716\n",
      "The Distoration Measure score of this assignment is  574551768.7461154\n"
     ]
    },
    {
     "name": "stderr",
     "output_type": "stream",
     "text": [
      "\n",
      "  8%|▊         | 25/300 [01:06<12:45,  2.78s/it]\u001b[A"
     ]
    },
    {
     "name": "stdout",
     "output_type": "stream",
     "text": [
      "Restart 1  Iteration 25\n",
      "The Error of this iteration is  0.47794013007353636\n",
      "The Distoration Measure score of this assignment is  574553983.4693682\n"
     ]
    },
    {
     "name": "stderr",
     "output_type": "stream",
     "text": [
      "\n",
      "  9%|▊         | 26/300 [01:08<12:40,  2.77s/it]\u001b[A"
     ]
    },
    {
     "name": "stdout",
     "output_type": "stream",
     "text": [
      "Restart 1  Iteration 26\n",
      "The Error of this iteration is  0.18597460905530389\n",
      "The Distoration Measure score of this assignment is  574557198.8213984\n"
     ]
    },
    {
     "name": "stderr",
     "output_type": "stream",
     "text": [
      "\n",
      "  9%|▉         | 27/300 [01:11<12:40,  2.79s/it]\u001b[A"
     ]
    },
    {
     "name": "stdout",
     "output_type": "stream",
     "text": [
      "Restart 1  Iteration 27\n",
      "The Error of this iteration is  0.21501082417437897\n",
      "The Distoration Measure score of this assignment is  574556982.8131117\n"
     ]
    },
    {
     "name": "stderr",
     "output_type": "stream",
     "text": [
      "\n",
      "  9%|▉         | 28/300 [01:14<12:05,  2.67s/it]\u001b[A\n",
      "100%|██████████| 1/1 [01:15<00:00, 75.91s/it]"
     ]
    },
    {
     "name": "stdout",
     "output_type": "stream",
     "text": [
      "Restart 1  Iteration 28\n",
      "The Error of this iteration is  0.0\n",
      "The Distoration Measure score of this assignment is  574556598.8306483\n",
      "This Restart scored better than last _plorone. Updating Attributes...\n"
     ]
    },
    {
     "name": "stderr",
     "output_type": "stream",
     "text": [
      "\n"
     ]
    }
   ],
   "source": [
    "from kmeans import KMeans \n",
    "num_clusters = 3\n",
    "model = KMeans(num_clusters= num_clusters)\n",
    "model.fit(train_X)"
   ]
  },
  {
   "cell_type": "markdown",
   "metadata": {},
   "source": [
    "### Evaluting the fitted model"
   ]
  },
  {
   "cell_type": "code",
   "execution_count": 3,
   "metadata": {},
   "outputs": [
    {
     "name": "stdout",
     "output_type": "stream",
     "text": [
      "The Model needed  28  iterations to converge.\n",
      "The Model scored  574556598.8306483  for the distoration measure value.\n"
     ]
    }
   ],
   "source": [
    "print(\"The Model needed \",model.iter_num_,\" iterations to converge.\")\n",
    "print(\"The Model scored \",model.distoration_measure_,\" for the distoration measure value.\")"
   ]
  },
  {
   "cell_type": "markdown",
   "metadata": {},
   "source": [
    "### Visualizing the fitted model\n",
    "Plotting the cluster centroids."
   ]
  },
  {
   "cell_type": "code",
   "execution_count": 4,
   "metadata": {
    "scrolled": false
   },
   "outputs": [
    {
     "data": {
      "image/png": "[encoded data removed]",
      "text/plain": [
       "<Figure size 432x288 with 1 Axes>"
      ]
     },
     "metadata": {
      "needs_background": "light"
     },
     "output_type": "display_data"
    },
    {
     "data": {
      "image/png": "[encoded data removed]",
      "text/plain": [
       "<Figure size 432x288 with 1 Axes>"
      ]
     },
     "metadata": {
      "needs_background": "light"
     },
     "output_type": "display_data"
    },
    {
     "data": {
      "image/png": "[encoded data removed]",
      "text/plain": [
       "<Figure size 432x288 with 1 Axes>"
      ]
     },
     "metadata": {
      "needs_background": "light"
     },
     "output_type": "display_data"
    }
   ],
   "source": [
    "import matplotlib.pyplot as plt\n",
    "for centroid in model.centroids_:\n",
    "    centroid = centroid.transpose((1,2,0)).astype(int)\n",
    "    plt.figure()\n",
    "    plt.imshow(centroid)"
   ]
  },
  {
   "cell_type": "markdown",
   "metadata": {},
   "source": [
    "### Visualizing the fitted model\n",
    "Plotting cluster representatives of each cluster."
   ]
  },
  {
   "cell_type": "code",
   "execution_count": 5,
   "metadata": {},
   "outputs": [
    {
     "data": {
      "image/png": "[encoded data removed]",
      "text/plain": [
       "<Figure size 432x288 with 1 Axes>"
      ]
     },
     "metadata": {
      "needs_background": "light"
     },
     "output_type": "display_data"
    },
    {
     "data": {
      "image/png": "[encoded data removed]",
      "text/plain": [
       "<Figure size 432x288 with 1 Axes>"
      ]
     },
     "metadata": {
      "needs_background": "light"
     },
     "output_type": "display_data"
    },
    {
     "data": {
      "image/png": "[encoded data removed]",
      "text/plain": [
       "<Figure size 432x288 with 1 Axes>"
      ]
     },
     "metadata": {
      "needs_background": "light"
     },
     "output_type": "display_data"
    }
   ],
   "source": [
    "import matplotlib.pyplot as plt\n",
    "import numpy as np\n",
    "cluster_representatives_index = np.unique(model.cluster_labels_, return_index=True)[1]\n",
    "for cluster in range(cluster_representatives_index.shape[0]):  \n",
    "    plt.figure()\n",
    "    plt.imshow(train_X[cluster].transpose((1,2,0)))"
   ]
  },
  {
   "cell_type": "markdown",
   "metadata": {},
   "source": [
    "### Visualizing the fitted model\n",
    "Plotting measure vs iteration histories of the kmeans run."
   ]
  },
  {
   "cell_type": "code",
   "execution_count": 6,
   "metadata": {},
   "outputs": [
    {
     "data": {
      "image/png": "[encoded data removed]",
      "text/plain": [
       "<Figure size 1440x1080 with 1 Axes>"
      ]
     },
     "metadata": {
      "needs_background": "light"
     },
     "output_type": "display_data"
    }
   ],
   "source": [
    "model.plot_measure_vs_iteration()"
   ]
  },
  {
   "cell_type": "code",
   "execution_count": null,
   "metadata": {},
   "outputs": [],
   "source": []
  }
 ],
 "metadata": {
  "kernelspec": {
   "display_name": "Python 3",
   "language": "python",
   "name": "python3"
  },
  "language_info": {
   "codemirror_mode": {
    "name": "ipython",
    "version": 3
   },
   "file_extension": ".py",
   "mimetype": "text/x-python",
   "name": "python",
   "nbconvert_exporter": "python",
   "pygments_lexer": "ipython3",
   "version": "3.7.5"
  }
 },
 "nbformat": 4,
 "nbformat_minor": 2
}
