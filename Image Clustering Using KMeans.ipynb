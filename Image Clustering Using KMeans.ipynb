{
 "cells": [
  {
   "cell_type": "markdown",
   "metadata": {},
   "source": [
    "# Dataset\n",
    "## The CIFAR-10 dataset\n",
    "The CIFAR-10 dataset consists of 60000 32x32 colour images in 10 classes, with 6000 images per class. There are 50000 training images and 10000 test images.\n",
    "\n",
    "The dataset is divided into five training batches and one test batch, each with 10000 images. The test batch contains exactly 1000 randomly-selected images from each class. The training batches contain the remaining images in random order, but some training batches may contain more images from one class than another. Between them, the training batches contain exactly 5000 images from each class.\n",
    "\n",
    "You can check and download the dataset from [here](https://www.cs.toronto.edu/~kriz/cifar.html)"
   ]
  },
  {
   "cell_type": "markdown",
   "metadata": {},
   "source": [
    "## Loading Dataset Into Memory\n",
    "\n",
    "Wrote my own ImageDataLoader Class that is extendible to support multiple datasets in the future as well.\n",
    "It loads the dataset using the directory path, and returns four results: **train_X, train_y , test_X , test_y** \n",
    "\n",
    "Although clustering does not make use of the labels since this is an unsupervised learning algorithm.\n",
    "This is intended to support a general case ImageDataLoader not specifically built for the image clustering problem. "
   ]
  },
  {
   "cell_type": "code",
   "execution_count": 1,
   "metadata": {},
   "outputs": [
    {
     "name": "stderr",
     "output_type": "stream",
     "text": [
      "100%|██████████| 5/5 [00:00<00:00, 29.29it/s]\n"
     ]
    }
   ],
   "source": [
    "from data_loader import ImageDataLoader\n",
    "data_loader = ImageDataLoader()\n",
    "train_X, train_y , test_X , test_y = data_loader.load_cifar10(\"./cifar-10-batches-py\", num_batches = 5)"
   ]
  },
  {
   "cell_type": "markdown",
   "metadata": {},
   "source": [
    "## Clustering Using KMeans\n",
    "\n",
    "The purpose of K-means is to **identify groups**, or clusters of data points in a multidimensional space. The number K in K-means is the number of clusters to create. Initial cluster means are usually chosen at random.\n",
    "\n",
    "K-means is usually implemented as an **iterative procedure** in which each iteration involves two successive steps. The first step is to assign each of the data points to a cluster. The second step is to modify the cluster means so that they become the mean of all the points assigned to that cluster.\n",
    "\n",
    "The **quality** of the current assignment is given by the **distortion measure** which is the sum of squared distances between each cluster centroid and points inside the cluster."
   ]
  },
  {
   "cell_type": "code",
   "execution_count": 2,
   "metadata": {},
   "outputs": [
    {
     "name": "stderr",
     "output_type": "stream",
     "text": [
      "  0%|          | 0/1 [00:00<?, ?it/s]\n",
      "  0%|          | 0/300 [00:00<?, ?it/s]\u001b[A\n",
      "  0%|          | 1/300 [00:02<11:34,  2.32s/it]\u001b[A"
     ]
    },
    {
     "name": "stdout",
     "output_type": "stream",
     "text": [
      "Restart 1  Iteration 1\n",
      "The Error of this iteration is  6485.91979279723\n",
      "The Distoration Measure score of this assignment is  743133155.034374\n"
     ]
    },
    {
     "name": "stderr",
     "output_type": "stream",
     "text": [
      "\n",
      "  1%|          | 2/300 [00:04<11:27,  2.31s/it]\u001b[A"
     ]
    },
    {
     "name": "stdout",
     "output_type": "stream",
     "text": [
      "Restart 1  Iteration 2\n",
      "The Error of this iteration is  1353.932653636578\n",
      "The Distoration Measure score of this assignment is  543489751.1226282\n"
     ]
    },
    {
     "name": "stderr",
     "output_type": "stream",
     "text": [
      "\n",
      "  1%|          | 3/300 [00:06<11:21,  2.30s/it]\u001b[A"
     ]
    },
    {
     "name": "stdout",
     "output_type": "stream",
     "text": [
      "Restart 1  Iteration 3\n",
      "The Error of this iteration is  285.61883889524336\n",
      "The Distoration Measure score of this assignment is  565402975.1392524\n"
     ]
    },
    {
     "name": "stderr",
     "output_type": "stream",
     "text": [
      "\n",
      "  1%|▏         | 4/300 [00:09<11:22,  2.31s/it]\u001b[A"
     ]
    },
    {
     "name": "stdout",
     "output_type": "stream",
     "text": [
      "Restart 1  Iteration 4\n",
      "The Error of this iteration is  163.64691788249024\n",
      "The Distoration Measure score of this assignment is  566871352.0781212\n"
     ]
    },
    {
     "name": "stderr",
     "output_type": "stream",
     "text": [
      "\n",
      "  2%|▏         | 5/300 [00:11<11:19,  2.30s/it]\u001b[A"
     ]
    },
    {
     "name": "stdout",
     "output_type": "stream",
     "text": [
      "Restart 1  Iteration 5\n",
      "The Error of this iteration is  117.26498321330875\n",
      "The Distoration Measure score of this assignment is  568599179.9457592\n"
     ]
    },
    {
     "name": "stderr",
     "output_type": "stream",
     "text": [
      "\n",
      "  2%|▏         | 6/300 [00:13<11:16,  2.30s/it]\u001b[A"
     ]
    },
    {
     "name": "stdout",
     "output_type": "stream",
     "text": [
      "Restart 1  Iteration 6\n",
      "The Error of this iteration is  85.88485357137755\n",
      "The Distoration Measure score of this assignment is  570213191.0001668\n"
     ]
    },
    {
     "name": "stderr",
     "output_type": "stream",
     "text": [
      "\n",
      "  2%|▏         | 7/300 [00:16<11:12,  2.30s/it]\u001b[A"
     ]
    },
    {
     "name": "stdout",
     "output_type": "stream",
     "text": [
      "Restart 1  Iteration 7\n",
      "The Error of this iteration is  62.383090066489856\n",
      "The Distoration Measure score of this assignment is  571473624.9884087\n"
     ]
    },
    {
     "name": "stderr",
     "output_type": "stream",
     "text": [
      "\n",
      "  3%|▎         | 8/300 [00:18<11:08,  2.29s/it]\u001b[A"
     ]
    },
    {
     "name": "stdout",
     "output_type": "stream",
     "text": [
      "Restart 1  Iteration 8\n",
      "The Error of this iteration is  52.678181262304015\n",
      "The Distoration Measure score of this assignment is  572365586.5438294\n"
     ]
    },
    {
     "name": "stderr",
     "output_type": "stream",
     "text": [
      "\n",
      "  3%|▎         | 9/300 [00:20<11:05,  2.29s/it]\u001b[A"
     ]
    },
    {
     "name": "stdout",
     "output_type": "stream",
     "text": [
      "Restart 1  Iteration 9\n",
      "The Error of this iteration is  42.76658094284559\n",
      "The Distoration Measure score of this assignment is  573084344.6970731\n"
     ]
    },
    {
     "name": "stderr",
     "output_type": "stream",
     "text": [
      "\n",
      "  3%|▎         | 10/300 [00:22<11:03,  2.29s/it]\u001b[A"
     ]
    },
    {
     "name": "stdout",
     "output_type": "stream",
     "text": [
      "Restart 1  Iteration 10\n",
      "The Error of this iteration is  34.19711620801298\n",
      "The Distoration Measure score of this assignment is  573638882.2082702\n"
     ]
    },
    {
     "name": "stderr",
     "output_type": "stream",
     "text": [
      "\n",
      "  4%|▎         | 11/300 [00:25<11:00,  2.29s/it]\u001b[A"
     ]
    },
    {
     "name": "stdout",
     "output_type": "stream",
     "text": [
      "Restart 1  Iteration 11\n",
      "The Error of this iteration is  25.98975988726518\n",
      "The Distoration Measure score of this assignment is  574027541.7174398\n"
     ]
    },
    {
     "name": "stderr",
     "output_type": "stream",
     "text": [
      "\n",
      "  4%|▍         | 12/300 [00:27<10:57,  2.28s/it]\u001b[A"
     ]
    },
    {
     "name": "stdout",
     "output_type": "stream",
     "text": [
      "Restart 1  Iteration 12\n",
      "The Error of this iteration is  20.567516389967366\n",
      "The Distoration Measure score of this assignment is  574273534.2542315\n"
     ]
    },
    {
     "name": "stderr",
     "output_type": "stream",
     "text": [
      "\n",
      "  4%|▍         | 13/300 [00:29<10:54,  2.28s/it]\u001b[A"
     ]
    },
    {
     "name": "stdout",
     "output_type": "stream",
     "text": [
      "Restart 1  Iteration 13\n",
      "The Error of this iteration is  18.900809627070824\n",
      "The Distoration Measure score of this assignment is  574426573.9394536\n"
     ]
    },
    {
     "name": "stderr",
     "output_type": "stream",
     "text": [
      "\n",
      "  5%|▍         | 14/300 [00:32<10:52,  2.28s/it]\u001b[A"
     ]
    },
    {
     "name": "stdout",
     "output_type": "stream",
     "text": [
      "Restart 1  Iteration 14\n",
      "The Error of this iteration is  12.749728556024413\n",
      "The Distoration Measure score of this assignment is  574558948.7636071\n"
     ]
    },
    {
     "name": "stderr",
     "output_type": "stream",
     "text": [
      "\n",
      "  5%|▌         | 15/300 [00:34<10:50,  2.28s/it]\u001b[A"
     ]
    },
    {
     "name": "stdout",
     "output_type": "stream",
     "text": [
      "Restart 1  Iteration 15\n",
      "The Error of this iteration is  10.17335110211409\n",
      "The Distoration Measure score of this assignment is  574616780.8448288\n"
     ]
    },
    {
     "name": "stderr",
     "output_type": "stream",
     "text": [
      "\n",
      "  5%|▌         | 16/300 [00:36<10:48,  2.28s/it]\u001b[A"
     ]
    },
    {
     "name": "stdout",
     "output_type": "stream",
     "text": [
      "Restart 1  Iteration 16\n",
      "The Error of this iteration is  10.114918219089365\n",
      "The Distoration Measure score of this assignment is  574651874.4983358\n"
     ]
    },
    {
     "name": "stderr",
     "output_type": "stream",
     "text": [
      "\n",
      "  6%|▌         | 17/300 [00:38<10:44,  2.28s/it]\u001b[A"
     ]
    },
    {
     "name": "stdout",
     "output_type": "stream",
     "text": [
      "Restart 1  Iteration 17\n",
      "The Error of this iteration is  8.726683611076064\n",
      "The Distoration Measure score of this assignment is  574705040.7781162\n"
     ]
    },
    {
     "name": "stderr",
     "output_type": "stream",
     "text": [
      "\n",
      "  6%|▌         | 18/300 [00:41<10:41,  2.27s/it]\u001b[A"
     ]
    },
    {
     "name": "stdout",
     "output_type": "stream",
     "text": [
      "Restart 1  Iteration 18\n",
      "The Error of this iteration is  7.413136945147135\n",
      "The Distoration Measure score of this assignment is  574722620.2267032\n"
     ]
    },
    {
     "name": "stderr",
     "output_type": "stream",
     "text": [
      "\n",
      "  6%|▋         | 19/300 [00:43<10:51,  2.32s/it]\u001b[A"
     ]
    },
    {
     "name": "stdout",
     "output_type": "stream",
     "text": [
      "Restart 1  Iteration 19\n",
      "The Error of this iteration is  7.136948701246193\n",
      "The Distoration Measure score of this assignment is  574727408.4719344\n"
     ]
    },
    {
     "name": "stderr",
     "output_type": "stream",
     "text": [
      "\n",
      "  7%|▋         | 20/300 [00:45<10:45,  2.30s/it]\u001b[A"
     ]
    },
    {
     "name": "stdout",
     "output_type": "stream",
     "text": [
      "Restart 1  Iteration 20\n",
      "The Error of this iteration is  4.727522784886013\n",
      "The Distoration Measure score of this assignment is  574726570.7751007\n"
     ]
    },
    {
     "name": "stderr",
     "output_type": "stream",
     "text": [
      "\n",
      "  7%|▋         | 21/300 [00:48<10:39,  2.29s/it]\u001b[A"
     ]
    },
    {
     "name": "stdout",
     "output_type": "stream",
     "text": [
      "Restart 1  Iteration 21\n",
      "The Error of this iteration is  4.948189441056339\n",
      "The Distoration Measure score of this assignment is  574728144.4726428\n"
     ]
    },
    {
     "name": "stderr",
     "output_type": "stream",
     "text": [
      "\n",
      "  7%|▋         | 22/300 [00:50<10:40,  2.30s/it]\u001b[A"
     ]
    },
    {
     "name": "stdout",
     "output_type": "stream",
     "text": [
      "Restart 1  Iteration 22\n",
      "The Error of this iteration is  4.984692220803975\n",
      "The Distoration Measure score of this assignment is  574724261.7815678\n"
     ]
    },
    {
     "name": "stderr",
     "output_type": "stream",
     "text": [
      "\n",
      "  8%|▊         | 23/300 [00:52<10:36,  2.30s/it]\u001b[A"
     ]
    },
    {
     "name": "stdout",
     "output_type": "stream",
     "text": [
      "Restart 1  Iteration 23\n",
      "The Error of this iteration is  3.829256655142583\n",
      "The Distoration Measure score of this assignment is  574725823.0664358\n"
     ]
    },
    {
     "name": "stderr",
     "output_type": "stream",
     "text": [
      "\n",
      "  8%|▊         | 24/300 [00:54<10:32,  2.29s/it]\u001b[A"
     ]
    },
    {
     "name": "stdout",
     "output_type": "stream",
     "text": [
      "Restart 1  Iteration 24\n",
      "The Error of this iteration is  3.2012792633964424\n",
      "The Distoration Measure score of this assignment is  574725911.0501304\n"
     ]
    },
    {
     "name": "stderr",
     "output_type": "stream",
     "text": [
      "\n",
      "  8%|▊         | 25/300 [00:57<10:28,  2.29s/it]\u001b[A"
     ]
    },
    {
     "name": "stdout",
     "output_type": "stream",
     "text": [
      "Restart 1  Iteration 25\n",
      "The Error of this iteration is  3.0170074898002106\n",
      "The Distoration Measure score of this assignment is  574710379.9383032\n"
     ]
    },
    {
     "name": "stderr",
     "output_type": "stream",
     "text": [
      "\n",
      "  9%|▊         | 26/300 [00:59<10:24,  2.28s/it]\u001b[A"
     ]
    },
    {
     "name": "stdout",
     "output_type": "stream",
     "text": [
      "Restart 1  Iteration 26\n",
      "The Error of this iteration is  2.4750947547721753\n",
      "The Distoration Measure score of this assignment is  574701554.0370733\n"
     ]
    },
    {
     "name": "stderr",
     "output_type": "stream",
     "text": [
      "\n",
      "  9%|▉         | 27/300 [01:01<10:21,  2.28s/it]\u001b[A"
     ]
    },
    {
     "name": "stdout",
     "output_type": "stream",
     "text": [
      "Restart 1  Iteration 27\n",
      "The Error of this iteration is  1.7482503306756387\n",
      "The Distoration Measure score of this assignment is  574709428.7253368\n"
     ]
    },
    {
     "name": "stderr",
     "output_type": "stream",
     "text": [
      "\n",
      "  9%|▉         | 28/300 [01:04<10:20,  2.28s/it]\u001b[A"
     ]
    },
    {
     "name": "stdout",
     "output_type": "stream",
     "text": [
      "Restart 1  Iteration 28\n",
      "The Error of this iteration is  1.1611624643332477\n",
      "The Distoration Measure score of this assignment is  574696436.7201873\n"
     ]
    },
    {
     "name": "stderr",
     "output_type": "stream",
     "text": [
      "\n",
      " 10%|▉         | 29/300 [01:06<10:20,  2.29s/it]\u001b[A"
     ]
    },
    {
     "name": "stdout",
     "output_type": "stream",
     "text": [
      "Restart 1  Iteration 29\n",
      "The Error of this iteration is  1.1924462910474398\n",
      "The Distoration Measure score of this assignment is  574688473.447318\n"
     ]
    },
    {
     "name": "stderr",
     "output_type": "stream",
     "text": [
      "\n",
      " 10%|█         | 30/300 [01:08<10:16,  2.29s/it]\u001b[A"
     ]
    },
    {
     "name": "stdout",
     "output_type": "stream",
     "text": [
      "Restart 1  Iteration 30\n",
      "The Error of this iteration is  0.6649907991478456\n",
      "The Distoration Measure score of this assignment is  574674084.1078042\n"
     ]
    },
    {
     "name": "stderr",
     "output_type": "stream",
     "text": [
      "\n",
      " 10%|█         | 31/300 [01:10<10:15,  2.29s/it]\u001b[A"
     ]
    },
    {
     "name": "stdout",
     "output_type": "stream",
     "text": [
      "Restart 1  Iteration 31\n",
      "The Error of this iteration is  0.6868178028611114\n",
      "The Distoration Measure score of this assignment is  574666789.4185202\n"
     ]
    },
    {
     "name": "stderr",
     "output_type": "stream",
     "text": [
      "\n",
      " 11%|█         | 32/300 [01:13<10:12,  2.29s/it]\u001b[A"
     ]
    },
    {
     "name": "stdout",
     "output_type": "stream",
     "text": [
      "Restart 1  Iteration 32\n",
      "The Error of this iteration is  0.4890574772264736\n",
      "The Distoration Measure score of this assignment is  574656599.9081708\n"
     ]
    },
    {
     "name": "stderr",
     "output_type": "stream",
     "text": [
      "\n",
      " 11%|█         | 33/300 [01:15<10:09,  2.28s/it]\u001b[A"
     ]
    },
    {
     "name": "stdout",
     "output_type": "stream",
     "text": [
      "Restart 1  Iteration 33\n",
      "The Error of this iteration is  0.5473622335039584\n",
      "The Distoration Measure score of this assignment is  574649527.6958103\n"
     ]
    },
    {
     "name": "stderr",
     "output_type": "stream",
     "text": [
      "\n",
      " 11%|█▏        | 34/300 [01:17<10:08,  2.29s/it]\u001b[A\n",
      "100%|██████████| 1/1 [01:18<00:00, 78.85s/it]"
     ]
    },
    {
     "name": "stdout",
     "output_type": "stream",
     "text": [
      "Restart 1  Iteration 34\n",
      "The Error of this iteration is  0.0\n",
      "The Distoration Measure score of this assignment is  574646394.9893672\n",
      "This Restart scored better than last one. Updating Attributes...\n"
     ]
    },
    {
     "name": "stderr",
     "output_type": "stream",
     "text": [
      "\n"
     ]
    }
   ],
   "source": [
    "from kmeans import KMeans \n",
    "model = KMeans(num_clusters= 3)\n",
    "model.fit(train_X)"
   ]
  },
  {
   "cell_type": "markdown",
   "metadata": {},
   "source": [
    "### Evaluting the fitted model"
   ]
  },
  {
   "cell_type": "code",
   "execution_count": 4,
   "metadata": {},
   "outputs": [
    {
     "name": "stdout",
     "output_type": "stream",
     "text": [
      "The Model needed  34  iterations to converge.\n",
      "The Model scored  574646394.9893672  for the distoration measure value.\n"
     ]
    }
   ],
   "source": [
    "print(\"The Model needed \",model.iter_num_,\" iterations to converge.\")\n",
    "print(\"The Model scored \",model.distoration_measure_,\" for the distoration measure value.\")"
   ]
  },
  {
   "cell_type": "markdown",
   "metadata": {},
   "source": [
    "### Visualizing the fitted model"
   ]
  },
  {
   "cell_type": "code",
   "execution_count": null,
   "metadata": {},
   "outputs": [],
   "source": []
  }
 ],
 "metadata": {
  "kernelspec": {
   "display_name": "Python 3",
   "language": "python",
   "name": "python3"
  },
  "language_info": {
   "codemirror_mode": {
    "name": "ipython",
    "version": 3
   },
   "file_extension": ".py",
   "mimetype": "text/x-python",
   "name": "python",
   "nbconvert_exporter": "python",
   "pygments_lexer": "ipython3",
   "version": "3.7.5"
  }
 },
 "nbformat": 4,
 "nbformat_minor": 2
}
